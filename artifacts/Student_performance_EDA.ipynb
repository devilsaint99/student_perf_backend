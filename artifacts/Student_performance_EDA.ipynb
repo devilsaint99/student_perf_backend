{
 "cells": [
  {
   "cell_type": "code",
   "execution_count": 198,
   "id": "e69bc6b7-cbfb-43d0-b908-0743c7e8ebc8",
   "metadata": {},
   "outputs": [],
   "source": [
    "import pandas as pd\n",
    "import numpy as np\n",
    "import seaborn as sns\n",
    "import matplotlib.pyplot as plt\n",
    "%matplotlib inline"
   ]
  },
  {
   "cell_type": "code",
   "execution_count": 200,
   "id": "82cfd401-e382-475e-962e-f0ce580d4605",
   "metadata": {},
   "outputs": [],
   "source": [
    "df = pd.read_csv('stud.csv')"
   ]
  },
  {
   "cell_type": "code",
   "execution_count": 202,
   "id": "4ede72ad-4faa-4d01-9ec6-c01f1e8fcb8c",
   "metadata": {},
   "outputs": [
    {
     "data": {
      "text/plain": [
       "gender                         0\n",
       "race_ethnicity                 0\n",
       "parental_level_of_education    0\n",
       "lunch                          0\n",
       "test_preparation_course        0\n",
       "math_score                     0\n",
       "reading_score                  0\n",
       "writing_score                  0\n",
       "dtype: int64"
      ]
     },
     "execution_count": 202,
     "metadata": {},
     "output_type": "execute_result"
    }
   ],
   "source": [
    "df.isnull().sum()"
   ]
  },
  {
   "cell_type": "markdown",
   "id": "d7c53d34-9c89-4987-878c-4d7cf2cc64ed",
   "metadata": {},
   "source": [
    "### There are no missing values"
   ]
  },
  {
   "cell_type": "code",
   "execution_count": 205,
   "id": "05fdd7b1-1883-4be2-babe-96d192fa7084",
   "metadata": {},
   "outputs": [
    {
     "data": {
      "text/plain": [
       "0"
      ]
     },
     "execution_count": 205,
     "metadata": {},
     "output_type": "execute_result"
    }
   ],
   "source": [
    "df.duplicated().sum()"
   ]
  },
  {
   "cell_type": "markdown",
   "id": "6910527e-43bc-40e0-b2cb-76c12e122dca",
   "metadata": {},
   "source": [
    "### No duplicates"
   ]
  },
  {
   "cell_type": "code",
   "execution_count": 208,
   "id": "edd8b86b-635e-433e-82ed-57b8cb69b209",
   "metadata": {},
   "outputs": [
    {
     "name": "stdout",
     "output_type": "stream",
     "text": [
      "<class 'pandas.core.frame.DataFrame'>\n",
      "RangeIndex: 1000 entries, 0 to 999\n",
      "Data columns (total 8 columns):\n",
      " #   Column                       Non-Null Count  Dtype \n",
      "---  ------                       --------------  ----- \n",
      " 0   gender                       1000 non-null   object\n",
      " 1   race_ethnicity               1000 non-null   object\n",
      " 2   parental_level_of_education  1000 non-null   object\n",
      " 3   lunch                        1000 non-null   object\n",
      " 4   test_preparation_course      1000 non-null   object\n",
      " 5   math_score                   1000 non-null   int64 \n",
      " 6   reading_score                1000 non-null   int64 \n",
      " 7   writing_score                1000 non-null   int64 \n",
      "dtypes: int64(3), object(5)\n",
      "memory usage: 62.6+ KB\n"
     ]
    }
   ],
   "source": [
    "df.info()"
   ]
  },
  {
   "cell_type": "code",
   "execution_count": 210,
   "id": "54c72720-172e-4662-923f-b109e34183ca",
   "metadata": {},
   "outputs": [
    {
     "data": {
      "text/plain": [
       "gender                          2\n",
       "race_ethnicity                  5\n",
       "parental_level_of_education     6\n",
       "lunch                           2\n",
       "test_preparation_course         2\n",
       "math_score                     81\n",
       "reading_score                  72\n",
       "writing_score                  77\n",
       "dtype: int64"
      ]
     },
     "execution_count": 210,
     "metadata": {},
     "output_type": "execute_result"
    }
   ],
   "source": [
    "df.nunique()"
   ]
  },
  {
   "cell_type": "code",
   "execution_count": 212,
   "id": "29420289-d4d8-4a21-ad0d-f26dd510b3aa",
   "metadata": {},
   "outputs": [
    {
     "data": {
      "text/html": [
       "<div>\n",
       "<style scoped>\n",
       "    .dataframe tbody tr th:only-of-type {\n",
       "        vertical-align: middle;\n",
       "    }\n",
       "\n",
       "    .dataframe tbody tr th {\n",
       "        vertical-align: top;\n",
       "    }\n",
       "\n",
       "    .dataframe thead th {\n",
       "        text-align: right;\n",
       "    }\n",
       "</style>\n",
       "<table border=\"1\" class=\"dataframe\">\n",
       "  <thead>\n",
       "    <tr style=\"text-align: right;\">\n",
       "      <th></th>\n",
       "      <th>math_score</th>\n",
       "      <th>reading_score</th>\n",
       "      <th>writing_score</th>\n",
       "    </tr>\n",
       "  </thead>\n",
       "  <tbody>\n",
       "    <tr>\n",
       "      <th>count</th>\n",
       "      <td>1000.00000</td>\n",
       "      <td>1000.000000</td>\n",
       "      <td>1000.000000</td>\n",
       "    </tr>\n",
       "    <tr>\n",
       "      <th>mean</th>\n",
       "      <td>66.08900</td>\n",
       "      <td>69.169000</td>\n",
       "      <td>68.054000</td>\n",
       "    </tr>\n",
       "    <tr>\n",
       "      <th>std</th>\n",
       "      <td>15.16308</td>\n",
       "      <td>14.600192</td>\n",
       "      <td>15.195657</td>\n",
       "    </tr>\n",
       "    <tr>\n",
       "      <th>min</th>\n",
       "      <td>0.00000</td>\n",
       "      <td>17.000000</td>\n",
       "      <td>10.000000</td>\n",
       "    </tr>\n",
       "    <tr>\n",
       "      <th>25%</th>\n",
       "      <td>57.00000</td>\n",
       "      <td>59.000000</td>\n",
       "      <td>57.750000</td>\n",
       "    </tr>\n",
       "    <tr>\n",
       "      <th>50%</th>\n",
       "      <td>66.00000</td>\n",
       "      <td>70.000000</td>\n",
       "      <td>69.000000</td>\n",
       "    </tr>\n",
       "    <tr>\n",
       "      <th>75%</th>\n",
       "      <td>77.00000</td>\n",
       "      <td>79.000000</td>\n",
       "      <td>79.000000</td>\n",
       "    </tr>\n",
       "    <tr>\n",
       "      <th>max</th>\n",
       "      <td>100.00000</td>\n",
       "      <td>100.000000</td>\n",
       "      <td>100.000000</td>\n",
       "    </tr>\n",
       "  </tbody>\n",
       "</table>\n",
       "</div>"
      ],
      "text/plain": [
       "       math_score  reading_score  writing_score\n",
       "count  1000.00000    1000.000000    1000.000000\n",
       "mean     66.08900      69.169000      68.054000\n",
       "std      15.16308      14.600192      15.195657\n",
       "min       0.00000      17.000000      10.000000\n",
       "25%      57.00000      59.000000      57.750000\n",
       "50%      66.00000      70.000000      69.000000\n",
       "75%      77.00000      79.000000      79.000000\n",
       "max     100.00000     100.000000     100.000000"
      ]
     },
     "execution_count": 212,
     "metadata": {},
     "output_type": "execute_result"
    }
   ],
   "source": [
    "df.describe()"
   ]
  },
  {
   "cell_type": "code",
   "execution_count": 214,
   "id": "1ed1af51-a951-4184-a69d-4a2e12c2de2b",
   "metadata": {},
   "outputs": [
    {
     "data": {
      "text/plain": [
       "Index(['gender', 'race_ethnicity', 'parental_level_of_education', 'lunch',\n",
       "       'test_preparation_course', 'math_score', 'reading_score',\n",
       "       'writing_score'],\n",
       "      dtype='object')"
      ]
     },
     "execution_count": 214,
     "metadata": {},
     "output_type": "execute_result"
    }
   ],
   "source": [
    "df.columns"
   ]
  },
  {
   "cell_type": "code",
   "execution_count": 216,
   "id": "bdf88bf3-5859-4cf9-bbe2-904d50651e02",
   "metadata": {},
   "outputs": [
    {
     "name": "stdout",
     "output_type": "stream",
     "text": [
      "Numerical features are : ['math_score', 'reading_score', 'writing_score']\n",
      "Categorical features are : ['gender', 'race_ethnicity', 'parental_level_of_education', 'lunch', 'test_preparation_course']\n"
     ]
    }
   ],
   "source": [
    "numerical_features = [feature for feature in df.columns if df[feature].dtype!='O']\n",
    "categorical_features = [feature for feature in df.columns if feature not in numerical_features]\n",
    "\n",
    "print('Numerical features are :',numerical_features)\n",
    "print('Categorical features are :',categorical_features)"
   ]
  },
  {
   "cell_type": "code",
   "execution_count": 218,
   "id": "abd07a71-d9a3-4754-98ba-1828cfdfbc23",
   "metadata": {},
   "outputs": [
    {
     "name": "stdout",
     "output_type": "stream",
     "text": [
      "Unique values in gender are \n",
      "['female' 'male']\n",
      "------------------------------------------------\n",
      "\n",
      "Unique values in race_ethnicity are \n",
      "['group B' 'group C' 'group A' 'group D' 'group E']\n",
      "------------------------------------------------\n",
      "\n",
      "Unique values in parental_level_of_education are \n",
      "[\"bachelor's degree\" 'some college' \"master's degree\" \"associate's degree\"\n",
      " 'high school' 'some high school']\n",
      "------------------------------------------------\n",
      "\n",
      "Unique values in lunch are \n",
      "['standard' 'free/reduced']\n",
      "------------------------------------------------\n",
      "\n",
      "Unique values in test_preparation_course are \n",
      "['none' 'completed']\n",
      "------------------------------------------------\n",
      "\n"
     ]
    }
   ],
   "source": [
    "for column in df.columns:\n",
    "    if column in categorical_features:\n",
    "        print(f'Unique values in {column} are \\n{df[column].unique()}')\n",
    "        print('------------------------------------------------',end=\"\\n\\n\")"
   ]
  },
  {
   "cell_type": "code",
   "execution_count": 220,
   "id": "000445d4-69af-4361-a4f1-4f4aefa5192b",
   "metadata": {},
   "outputs": [],
   "source": [
    "df['total_score'] = df['math_score']+ df['reading_score'] +  df['writing_score']\n",
    "df['average'] = df['total_score']/3"
   ]
  },
  {
   "cell_type": "code",
   "execution_count": 222,
   "id": "b9553e43-ecc0-4e9e-b923-59739948eece",
   "metadata": {},
   "outputs": [
    {
     "data": {
      "text/html": [
       "<div>\n",
       "<style scoped>\n",
       "    .dataframe tbody tr th:only-of-type {\n",
       "        vertical-align: middle;\n",
       "    }\n",
       "\n",
       "    .dataframe tbody tr th {\n",
       "        vertical-align: top;\n",
       "    }\n",
       "\n",
       "    .dataframe thead th {\n",
       "        text-align: right;\n",
       "    }\n",
       "</style>\n",
       "<table border=\"1\" class=\"dataframe\">\n",
       "  <thead>\n",
       "    <tr style=\"text-align: right;\">\n",
       "      <th></th>\n",
       "      <th>gender</th>\n",
       "      <th>race_ethnicity</th>\n",
       "      <th>parental_level_of_education</th>\n",
       "      <th>lunch</th>\n",
       "      <th>test_preparation_course</th>\n",
       "      <th>math_score</th>\n",
       "      <th>reading_score</th>\n",
       "      <th>writing_score</th>\n",
       "      <th>total_score</th>\n",
       "      <th>average</th>\n",
       "    </tr>\n",
       "  </thead>\n",
       "  <tbody>\n",
       "    <tr>\n",
       "      <th>0</th>\n",
       "      <td>female</td>\n",
       "      <td>group B</td>\n",
       "      <td>bachelor's degree</td>\n",
       "      <td>standard</td>\n",
       "      <td>none</td>\n",
       "      <td>72</td>\n",
       "      <td>72</td>\n",
       "      <td>74</td>\n",
       "      <td>218</td>\n",
       "      <td>72.666667</td>\n",
       "    </tr>\n",
       "    <tr>\n",
       "      <th>1</th>\n",
       "      <td>female</td>\n",
       "      <td>group C</td>\n",
       "      <td>some college</td>\n",
       "      <td>standard</td>\n",
       "      <td>completed</td>\n",
       "      <td>69</td>\n",
       "      <td>90</td>\n",
       "      <td>88</td>\n",
       "      <td>247</td>\n",
       "      <td>82.333333</td>\n",
       "    </tr>\n",
       "    <tr>\n",
       "      <th>2</th>\n",
       "      <td>female</td>\n",
       "      <td>group B</td>\n",
       "      <td>master's degree</td>\n",
       "      <td>standard</td>\n",
       "      <td>none</td>\n",
       "      <td>90</td>\n",
       "      <td>95</td>\n",
       "      <td>93</td>\n",
       "      <td>278</td>\n",
       "      <td>92.666667</td>\n",
       "    </tr>\n",
       "    <tr>\n",
       "      <th>3</th>\n",
       "      <td>male</td>\n",
       "      <td>group A</td>\n",
       "      <td>associate's degree</td>\n",
       "      <td>free/reduced</td>\n",
       "      <td>none</td>\n",
       "      <td>47</td>\n",
       "      <td>57</td>\n",
       "      <td>44</td>\n",
       "      <td>148</td>\n",
       "      <td>49.333333</td>\n",
       "    </tr>\n",
       "    <tr>\n",
       "      <th>4</th>\n",
       "      <td>male</td>\n",
       "      <td>group C</td>\n",
       "      <td>some college</td>\n",
       "      <td>standard</td>\n",
       "      <td>none</td>\n",
       "      <td>76</td>\n",
       "      <td>78</td>\n",
       "      <td>75</td>\n",
       "      <td>229</td>\n",
       "      <td>76.333333</td>\n",
       "    </tr>\n",
       "  </tbody>\n",
       "</table>\n",
       "</div>"
      ],
      "text/plain": [
       "   gender race_ethnicity parental_level_of_education         lunch  \\\n",
       "0  female        group B           bachelor's degree      standard   \n",
       "1  female        group C                some college      standard   \n",
       "2  female        group B             master's degree      standard   \n",
       "3    male        group A          associate's degree  free/reduced   \n",
       "4    male        group C                some college      standard   \n",
       "\n",
       "  test_preparation_course  math_score  reading_score  writing_score  \\\n",
       "0                    none          72             72             74   \n",
       "1               completed          69             90             88   \n",
       "2                    none          90             95             93   \n",
       "3                    none          47             57             44   \n",
       "4                    none          76             78             75   \n",
       "\n",
       "   total_score    average  \n",
       "0          218  72.666667  \n",
       "1          247  82.333333  \n",
       "2          278  92.666667  \n",
       "3          148  49.333333  \n",
       "4          229  76.333333  "
      ]
     },
     "execution_count": 222,
     "metadata": {},
     "output_type": "execute_result"
    }
   ],
   "source": [
    "df.head()"
   ]
  },
  {
   "cell_type": "code",
   "execution_count": 224,
   "id": "bcc576ec-2c6d-42c1-a872-f1653ba5fdef",
   "metadata": {},
   "outputs": [
    {
     "name": "stdout",
     "output_type": "stream",
     "text": [
      "Students with 100 in maths:  7\n",
      "Students with 100 in reading:  17\n",
      "Students with 100 in writing:  14\n"
     ]
    }
   ],
   "source": [
    "math_full = df[df['math_score'] == 100]['math_score'].count()\n",
    "reading_full = df[df['reading_score'] == 100]['reading_score'].count()\n",
    "writing_full = df[df['writing_score'] == 100]['writing_score'].count()\n",
    "\n",
    "print('Students with 100 in maths: ', math_full)\n",
    "print('Students with 100 in reading: ', reading_full)\n",
    "print('Students with 100 in writing: ', writing_full)"
   ]
  },
  {
   "cell_type": "code",
   "execution_count": 226,
   "id": "b05147d7-e589-4882-af08-e6a4b645a3f3",
   "metadata": {},
   "outputs": [
    {
     "name": "stdout",
     "output_type": "stream",
     "text": [
      "Students with 100 in maths:  27\n",
      "Students with 100 in reading:  15\n",
      "Students with 100 in writing:  18\n"
     ]
    }
   ],
   "source": [
    "math_fail = df[df['math_score'] <= 35]['math_score'].count()\n",
    "reading_fail = df[df['reading_score'] <= 35]['reading_score'].count()\n",
    "writing_fail = df[df['writing_score'] <= 35]['writing_score'].count()\n",
    "\n",
    "print('Students with 100 in maths: ', math_fail)\n",
    "print('Students with 100 in reading: ', reading_fail)\n",
    "print('Students with 100 in writing: ', writing_fail)"
   ]
  },
  {
   "cell_type": "code",
   "execution_count": 228,
   "id": "8ff79862-f6c3-4c30-8e9a-c97611ed72b2",
   "metadata": {},
   "outputs": [],
   "source": [
    "X=df.drop(columns=['total_score','math_score','average'])\n",
    "y = df['math_score']"
   ]
  },
  {
   "cell_type": "code",
   "execution_count": 230,
   "id": "1a6ef6f5-08f0-4b30-ae08-dde083e5eeea",
   "metadata": {},
   "outputs": [],
   "source": [
    "num_features = X.select_dtypes(exclude=\"O\").columns\n",
    "cat_features = X.select_dtypes(include=\"O\").columns"
   ]
  },
  {
   "cell_type": "code",
   "execution_count": 232,
   "id": "d19ac8f8-2e3d-48f4-aed7-15a762684fd5",
   "metadata": {},
   "outputs": [],
   "source": [
    "from sklearn.preprocessing import OneHotEncoder, StandardScaler\n",
    "from sklearn.compose import ColumnTransformer\n",
    "\n",
    "one_hot = OneHotEncoder(drop='first')\n",
    "std_scaler = StandardScaler()\n",
    "\n",
    "preprocessor  = ColumnTransformer(\n",
    "    [\n",
    "        (\"OneHotEncoder\", one_hot, cat_features),\n",
    "        (\"StandardScaler\", std_scaler, num_features)\n",
    "    ]\n",
    ")"
   ]
  },
  {
   "cell_type": "code",
   "execution_count": 234,
   "id": "5edf7909-bf07-4b91-a5ce-d191e4bb3d5a",
   "metadata": {},
   "outputs": [
    {
     "data": {
      "text/plain": [
       "(1000, 7)"
      ]
     },
     "execution_count": 234,
     "metadata": {},
     "output_type": "execute_result"
    }
   ],
   "source": [
    "X.shape"
   ]
  },
  {
   "cell_type": "code",
   "execution_count": 236,
   "id": "6e1c8e00-8368-494a-bd7c-2c560025fb5f",
   "metadata": {},
   "outputs": [],
   "source": [
    "X = preprocessor.fit_transform(X)"
   ]
  },
  {
   "cell_type": "code",
   "execution_count": 238,
   "id": "e213649f-c8d3-448b-80d5-0293d4ecca49",
   "metadata": {},
   "outputs": [
    {
     "data": {
      "text/plain": [
       "(1000, 14)"
      ]
     },
     "execution_count": 238,
     "metadata": {},
     "output_type": "execute_result"
    }
   ],
   "source": [
    "X.shape"
   ]
  },
  {
   "cell_type": "code",
   "execution_count": 240,
   "id": "b125b852-adc3-4c69-a47d-c9e8f742b359",
   "metadata": {},
   "outputs": [],
   "source": [
    "from sklearn.model_selection import train_test_split\n",
    "X_train, X_test, y_train, y_test = train_test_split(X,y,test_size=0.25,random_state=2)"
   ]
  },
  {
   "cell_type": "code",
   "execution_count": 244,
   "id": "88f8f5c1-be61-40ff-8d58-3c50fa552a92",
   "metadata": {},
   "outputs": [],
   "source": [
    "from sklearn.metrics import mean_absolute_error, mean_squared_error, root_mean_squared_error, r2_score\n",
    "def evaluate_model(true, predicted):\n",
    "    mse = mean_squared_error(true, predicted)\n",
    "    mae = mean_absolute_error(true, predicted)\n",
    "    rmse = root_mean_squared_error(true, predicted)\n",
    "    r_squared_score = r2_score(true, predicted)\n",
    "    return mse, mae, rmse, r_squared_score"
   ]
  },
  {
   "cell_type": "code",
   "execution_count": 260,
   "id": "ec0c4d86-ac08-4e30-8124-47007e498d2c",
   "metadata": {},
   "outputs": [
    {
     "name": "stdout",
     "output_type": "stream",
     "text": [
      "LinearRegression\n",
      "Model performance for training set:\n",
      "- Mean squared error:  27.264066929277654\n",
      "- Mean absolute error:  4.205477534184707\n",
      "- Root mean squared error:  5.221500448077895\n",
      "- R2 score squared error:  0.8831699865611634\n",
      "-----------------------------------------\n",
      "Model performance for test set:\n",
      "- Mean squared error:  31.9082638130493\n",
      "- Mean absolute error:  4.3847927256166805\n",
      "- Root mean squared error:  5.648740019955715\n",
      "- R2 score squared error:  0.8535008121526375\n",
      "-----------------------------------------\n",
      "\n",
      "Ridge\n",
      "Model performance for training set:\n",
      "- Mean squared error:  27.269423809538885\n",
      "- Mean absolute error:  4.204632256539039\n",
      "- Root mean squared error:  5.222013386572164\n",
      "- R2 score squared error:  0.883147031644183\n",
      "-----------------------------------------\n",
      "Model performance for test set:\n",
      "- Mean squared error:  31.916629164859508\n",
      "- Mean absolute error:  4.383267694514008\n",
      "- Root mean squared error:  5.64948043317786\n",
      "- R2 score squared error:  0.8534624046337129\n",
      "-----------------------------------------\n",
      "\n",
      "Lasso\n",
      "Model performance for training set:\n",
      "- Mean squared error:  41.59592694779886\n",
      "- Mean absolute error:  5.078060576692838\n",
      "- Root mean squared error:  6.449490440941738\n",
      "- R2 score squared error:  0.8217561335615104\n",
      "-----------------------------------------\n",
      "Model performance for test set:\n",
      "- Mean squared error:  44.77766511389114\n",
      "- Mean absolute error:  5.335226010540847\n",
      "- Root mean squared error:  6.691611548341037\n",
      "- R2 score squared error:  0.794414023548236\n",
      "-----------------------------------------\n",
      "\n",
      "DecisionTreeRegressor\n",
      "Model performance for training set:\n",
      "- Mean squared error:  0.19733333333333333\n",
      "- Mean absolute error:  0.032\n",
      "- Root mean squared error:  0.44422216663887154\n",
      "- R2 score squared error:  0.9991544014308259\n",
      "-----------------------------------------\n",
      "Model performance for test set:\n",
      "- Mean squared error:  65.36\n",
      "- Mean absolute error:  6.488\n",
      "- Root mean squared error:  8.084553172563094\n",
      "- R2 score squared error:  0.6999151387927376\n",
      "-----------------------------------------\n",
      "\n",
      "RandomForestRegressor\n",
      "Model performance for training set:\n",
      "- Mean squared error:  5.173464755111112\n",
      "- Mean absolute error:  1.795500888888889\n",
      "- Root mean squared error:  2.2745251713513994\n",
      "- R2 score squared error:  0.9778310419192845\n",
      "-----------------------------------------\n",
      "Model performance for test set:\n",
      "- Mean squared error:  41.919550419555556\n",
      "- Mean absolute error:  5.169744000000001\n",
      "- Root mean squared error:  6.4745309034366\n",
      "- R2 score squared error:  0.8075363759252882\n",
      "-----------------------------------------\n",
      "\n"
     ]
    }
   ],
   "source": [
    "from sklearn.linear_model import LinearRegression, Ridge, Lasso\n",
    "from sklearn.tree import DecisionTreeRegressor\n",
    "from sklearn.ensemble import RandomForestRegressor\n",
    "models = {\n",
    "    \"LinearRegression\": LinearRegression(),\n",
    "    \"Ridge\": Ridge(),\n",
    "    \"Lasso\": Lasso(),\n",
    "    \"DecisionTreeRegressor\": DecisionTreeRegressor(),\n",
    "    \"RandomForestRegressor\": RandomForestRegressor()\n",
    "    \n",
    "}\n",
    "\n",
    "for k,v in models.items():\n",
    "    model = v\n",
    "    model.fit(X_train, y_train)\n",
    "    y_train_pred = model.predict(X_train)\n",
    "    y_test_pred = model.predict(X_test)\n",
    "\n",
    "    model_train_mse, model_train_mae, model_train_rmse, model_train_r2_score = evaluate_model(y_train, y_train_pred)\n",
    "    model_test_mse, model_test_mae, model_test_rmse, model_test_r2_score = evaluate_model(y_test, y_test_pred)\n",
    "\n",
    "    print(k)\n",
    "    print('Model performance for training set:')\n",
    "    print('- Mean squared error: ',model_train_mse)\n",
    "    print('- Mean absolute error: ',model_train_mae)\n",
    "    print('- Root mean squared error: ',model_train_rmse)\n",
    "    print('- R2 score squared error: ',model_train_r2_score)\n",
    "\n",
    "    print('-----------------------------------------')\n",
    "\n",
    "    print('Model performance for test set:')\n",
    "    print('- Mean squared error: ',model_test_mse)\n",
    "    print('- Mean absolute error: ',model_test_mae)\n",
    "    print('- Root mean squared error: ',model_test_rmse)\n",
    "    print('- R2 score squared error: ',model_test_r2_score)\n",
    "    print('-----------------------------------------\\n')"
   ]
  },
  {
   "cell_type": "code",
   "execution_count": null,
   "id": "a0266e9f-ceef-4b5e-84c7-8fc8280f6320",
   "metadata": {},
   "outputs": [],
   "source": []
  }
 ],
 "metadata": {
  "kernelspec": {
   "display_name": "Python 3 (ipykernel)",
   "language": "python",
   "name": "python3"
  },
  "language_info": {
   "codemirror_mode": {
    "name": "ipython",
    "version": 3
   },
   "file_extension": ".py",
   "mimetype": "text/x-python",
   "name": "python",
   "nbconvert_exporter": "python",
   "pygments_lexer": "ipython3",
   "version": "3.12.4"
  }
 },
 "nbformat": 4,
 "nbformat_minor": 5
}
